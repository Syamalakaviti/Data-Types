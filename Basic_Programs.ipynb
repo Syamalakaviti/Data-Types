{
 "cells": [
  {
   "cell_type": "code",
   "execution_count": 1,
   "metadata": {},
   "outputs": [
    {
     "name": "stdout",
     "output_type": "stream",
     "text": [
      "Hello\n"
     ]
    }
   ],
   "source": [
    "#program to assign values to variable  1\n",
    "a=10\n",
    "a=10+2j\n",
    "a=\"Hello\"\n",
    "print(a)\n"
   ]
  },
  {
   "cell_type": "code",
   "execution_count": 5,
   "metadata": {},
   "outputs": [
    {
     "name": "stdout",
     "output_type": "stream",
     "text": [
      "<class 'str'> <class 'list'> <class 'dict'>\n"
     ]
    },
    {
     "data": {
      "text/plain": [
       "dict"
      ]
     },
     "execution_count": 5,
     "metadata": {},
     "output_type": "execute_result"
    }
   ],
   "source": [
    "#Program to check the type of data  2\n",
    "a={10,20,30}\n",
    "type(a)\n",
    "b=\"python\"\n",
    "c=[1,2,3]\n",
    "d={'a':12,\"d\":45}\n",
    "print(type(b),type(c),type(d))\n",
    "type(c)\n",
    "type(d)"
   ]
  },
  {
   "cell_type": "code",
   "execution_count": 7,
   "metadata": {},
   "outputs": [
    {
     "name": "stdout",
     "output_type": "stream",
     "text": [
      "3\n",
      "4\n",
      "5\n",
      "6\n"
     ]
    }
   ],
   "source": [
    "#Initilizing multiple variables   3\n",
    "p,q,r,s=3,4,5,6\n",
    "print(p)\n",
    "print(q)\n",
    "print(r)\n",
    "print(s)"
   ]
  },
  {
   "cell_type": "code",
   "execution_count": 8,
   "metadata": {},
   "outputs": [
    {
     "data": {
      "text/plain": [
       "140724732028744"
      ]
     },
     "execution_count": 8,
     "metadata": {},
     "output_type": "execute_result"
    }
   ],
   "source": [
    "#To print address   4\n",
    "d=34\n",
    "id(d)"
   ]
  },
  {
   "cell_type": "code",
   "execution_count": 11,
   "metadata": {},
   "outputs": [
    {
     "name": "stdout",
     "output_type": "stream",
     "text": [
      "Krishna\n",
      "krishna@gmail.com\n",
      "False\n"
     ]
    }
   ],
   "source": [
    "#storing and extracting the details in variables   5\n",
    "name=\"Krishna\"\n",
    "age=26\n",
    "phone=9848022338\n",
    "Email=\"krishna@gmail.com\"\n",
    "height=6\n",
    "pancard=False\n",
    "print(name)\n",
    "print(Email)\n",
    "print(pancard)"
   ]
  },
  {
   "cell_type": "code",
   "execution_count": 12,
   "metadata": {},
   "outputs": [
    {
     "name": "stdout",
     "output_type": "stream",
     "text": [
      "krishna@gmail.com\n",
      "krishna\n",
      "6\n"
     ]
    }
   ],
   "source": [
    "#Extracting details by using list      6\n",
    "k=[\"krishna\",9848022338,\"krishna@gmail.com\",6,False]\n",
    "print(k[2])\n",
    "print(k[0])\n",
    "print(k[3])"
   ]
  },
  {
   "cell_type": "code",
   "execution_count": 15,
   "metadata": {},
   "outputs": [
    {
     "name": "stdout",
     "output_type": "stream",
     "text": [
      "krishna 9848022338 krishna@gmail.com\n"
     ]
    }
   ],
   "source": [
    "#Extracting details by using dictonary     7\n",
    "k={\"name\":\"krishna\",\"age\":26,\"Email\":\"krishna@gmail.com\",\"phone\":9848022338,\"pancard\":False}\n",
    "print(k[\"name\"],k[\"phone\"],k[\"Email\"])"
   ]
  },
  {
   "cell_type": "code",
   "execution_count": 16,
   "metadata": {},
   "outputs": [
    {
     "name": "stdout",
     "output_type": "stream",
     "text": [
      "bye\n",
      "haii\n"
     ]
    }
   ],
   "source": [
    "#program to swap two variables with temp variale     8\n",
    "g=\"haii\"\n",
    "y=\"bye\"\n",
    "temp=g\n",
    "g=y\n",
    "y=temp\n",
    "print(g)\n",
    "print(y)"
   ]
  },
  {
   "cell_type": "code",
   "execution_count": 17,
   "metadata": {},
   "outputs": [
    {
     "name": "stdout",
     "output_type": "stream",
     "text": [
      "(30, 40)\n",
      "[10, 20]\n"
     ]
    }
   ],
   "source": [
    "#program to swap two variables without temp variable    9\n",
    "m=[10,20]\n",
    "n=(30,40)\n",
    "m,n=n,m\n",
    "print(m)\n",
    "print(n)"
   ]
  },
  {
   "cell_type": "code",
   "execution_count": 18,
   "metadata": {},
   "outputs": [
    {
     "name": "stdout",
     "output_type": "stream",
     "text": [
      "{'a': 'python'}\n"
     ]
    }
   ],
   "source": [
    "#Program to initilize and re-initilize of variable  10\n",
    "a={'a':\"pyspiders\"}\n",
    "a['a']=\"python\"\n",
    "print(a)"
   ]
  },
  {
   "cell_type": "code",
   "execution_count": 20,
   "metadata": {},
   "outputs": [
    {
     "name": "stdout",
     "output_type": "stream",
     "text": [
      "10\n",
      "['1', '0']\n"
     ]
    }
   ],
   "source": [
    "#program to convert single to multiple datatype  11\n",
    "a=10\n",
    "a=str(a)\n",
    "print(a)\n",
    "a=list(a)\n",
    "print(a)"
   ]
  },
  {
   "cell_type": "code",
   "execution_count": 26,
   "metadata": {},
   "outputs": [
    {
     "name": "stdout",
     "output_type": "stream",
     "text": [
      "helloworld\n",
      "[1, 2, 3, 4, 10, 20, 30]\n",
      "[1, 3, 4, 5, 'l', 'j']\n",
      "{'d', 2, 4, 't', 6, 'a', 8}\n",
      "[1, 2, 3, 4, 'h', 'a', 'i', 'i']\n",
      "(1, 2, 3, 4, 'a', 'r', 'v')\n"
     ]
    },
    {
     "ename": "TypeError",
     "evalue": "can only concatenate tuple (not \"list\") to tuple",
     "output_type": "error",
     "traceback": [
      "\u001b[1;31m---------------------------------------------------------------------------\u001b[0m",
      "\u001b[1;31mTypeError\u001b[0m                                 Traceback (most recent call last)",
      "Cell \u001b[1;32mIn[26], line 22\u001b[0m\n\u001b[0;32m     20\u001b[0m \u001b[39mprint\u001b[39m(t)\n\u001b[0;32m     21\u001b[0m i\u001b[39m=\u001b[39m(\u001b[39m4\u001b[39m,\u001b[39m6\u001b[39m,\u001b[39m7\u001b[39m)\n\u001b[1;32m---> 22\u001b[0m i\u001b[39m+\u001b[39;49m\u001b[39m=\u001b[39;49m[\u001b[39m1\u001b[39;49m,\u001b[39m2\u001b[39;49m,\u001b[39m3\u001b[39;49m]\n\u001b[0;32m     23\u001b[0m \u001b[39mprint\u001b[39m(i)\n",
      "\u001b[1;31mTypeError\u001b[0m: can only concatenate tuple (not \"list\") to tuple"
     ]
    }
   ],
   "source": [
    "#Program to concat two multivalue datatypes   12\n",
    "a=\"hello\"\n",
    "b=\"world\"\n",
    "a=a+b\n",
    "print(a)\n",
    "y=[1,2,3,4]\n",
    "y+=(10,20,30)\n",
    "print(y)\n",
    "d=[1,3,4,5,]\n",
    "d+={\"l\":8,'j':9}\n",
    "print(d)\n",
    "x={2,4,6,8}\n",
    "x|={'a','d','t'}\n",
    "print(x)\n",
    "l=[1,2,3,4]\n",
    "l+=\"haii\"\n",
    "print(l)\n",
    "t=(1,2,3,4)\n",
    "t+=('a','r','v')\n",
    "print(t)\n",
    "i=(4,6,7)\n",
    "i+=[1,2,3]\n",
    "print(i)"
   ]
  },
  {
   "cell_type": "code",
   "execution_count": 27,
   "metadata": {},
   "outputs": [
    {
     "name": "stdout",
     "output_type": "stream",
     "text": [
      "7 6 4 4 11\n"
     ]
    }
   ],
   "source": [
    "#Program to check the length of collection   13\n",
    "a=[1,2,3,4,5,6,7]\n",
    "b={1,2,3,4,5,5,5,0}\n",
    "d={'a':2,'r':5,'v':9,'n':7}\n",
    "t=(10,20,30,40)\n",
    "s=\"hello world\"\n",
    "print(len(a),len(b),len(d),len(t),len(s))"
   ]
  },
  {
   "cell_type": "code",
   "execution_count": 29,
   "metadata": {},
   "outputs": [
    {
     "name": "stdout",
     "output_type": "stream",
     "text": [
      "3\n",
      "2\n"
     ]
    }
   ],
   "source": [
    "#program to find middle value of collection   14\n",
    "g=[1,4,68,'s','u',8]\n",
    "print(len(g)//2)\n",
    "d={'e':4,'h':8,'r':3,'t':0}\n",
    "print(len(d)//2)"
   ]
  },
  {
   "cell_type": "code",
   "execution_count": 31,
   "metadata": {},
   "outputs": [
    {
     "name": "stdout",
     "output_type": "stream",
     "text": [
      "Dynamic programming\n"
     ]
    }
   ],
   "source": [
    "#program to concat new string into starting of existing string   15\n",
    "s=\"programming\"\n",
    "s=\"Dynamic \"+s\n",
    "\n",
    "print(s)"
   ]
  },
  {
   "cell_type": "code",
   "execution_count": 32,
   "metadata": {},
   "outputs": [
    {
     "name": "stdout",
     "output_type": "stream",
     "text": [
      "programminglanguage\n"
     ]
    }
   ],
   "source": [
    "#Program to concat new string at ending of existing string    16\n",
    "s=\"programming\"\n",
    "s+=\" language\"\n",
    "print(s)"
   ]
  },
  {
   "cell_type": "code",
   "execution_count": 35,
   "metadata": {},
   "outputs": [
    {
     "name": "stdout",
     "output_type": "stream",
     "text": [
      "Howare you\n"
     ]
    }
   ],
   "source": [
    "#program to concat new string at middle of existing string  17\n",
    "s=\"How you\"\n",
    "s=s[0:len(s)//2]+\"are\"+s[len(s)//2:]\n",
    "print(s)"
   ]
  },
  {
   "cell_type": "code",
   "execution_count": 40,
   "metadata": {},
   "outputs": [
    {
     "name": "stdout",
     "output_type": "stream",
     "text": [
      "pyspIders\n",
      "pyspvIders\n"
     ]
    }
   ],
   "source": [
    "#program to modify character in string  18\n",
    "s=\"pyspiders\"\n",
    "s=s[:len(s)//2]+'I'+s[len(s)//2+1:]\n",
    "print(s)\n",
    "s=s[:4]+'v'+s[4:]\n",
    "print(s)"
   ]
  },
  {
   "cell_type": "code",
   "execution_count": 43,
   "metadata": {},
   "outputs": [
    {
     "name": "stdout",
     "output_type": "stream",
     "text": [
      "HellWORrld\n"
     ]
    }
   ],
   "source": [
    "#program to modify sequence of values in string  19\n",
    "s=\"Helloworld\"\n",
    "s=s[:4]+\"WOR\"+s[-3:]\n",
    "print(s)\n"
   ]
  },
  {
   "cell_type": "code",
   "execution_count": 44,
   "metadata": {},
   "outputs": [
    {
     "name": "stdout",
     "output_type": "stream",
     "text": [
      "pyspiDers\n"
     ]
    }
   ],
   "source": [
    "#program to replace character in the string   20\n",
    "s=\"pyspiders\"\n",
    "s=s[:-4]+'D'+s[-3:]\n",
    "print(s)"
   ]
  },
  {
   "cell_type": "code",
   "execution_count": 1,
   "metadata": {},
   "outputs": [
    {
     "name": "stdout",
     "output_type": "stream",
     "text": [
      "pysiders\n"
     ]
    }
   ],
   "source": [
    "#program to delete specific character of string   21\n",
    "s=\"pyspiders\"\n",
    "s=s[:3]+s[4:]\n",
    "print(s)"
   ]
  },
  {
   "cell_type": "code",
   "execution_count": 2,
   "metadata": {},
   "outputs": [
    {
     "name": "stdout",
     "output_type": "stream",
     "text": [
      "helorld\n"
     ]
    }
   ],
   "source": [
    "#program to delete sequence of values in string   22\n",
    "s=\"helloworld\"\n",
    "s=s[:3]+s[6:]\n",
    "print(s)\n"
   ]
  },
  {
   "cell_type": "code",
   "execution_count": 4,
   "metadata": {},
   "outputs": [
    {
     "name": "stdout",
     "output_type": "stream",
     "text": [
      "[10, 20, 1, 3, 4, 5, 6, 7]\n"
     ]
    }
   ],
   "source": [
    "#concat new string ar starting of ginev list   23\n",
    "l=[1,3,4,5,6,7]\n",
    "l[0:0]=[10,20]\n",
    "print(l)"
   ]
  },
  {
   "cell_type": "code",
   "execution_count": 7,
   "metadata": {},
   "outputs": [
    {
     "name": "stdout",
     "output_type": "stream",
     "text": [
      "['a', 'b', 'c', 'd', 1, 2, 3]\n"
     ]
    },
    {
     "data": {
      "text/plain": [
       "['haii', 'hello', 'bye']"
      ]
     },
     "execution_count": 7,
     "metadata": {},
     "output_type": "execute_result"
    }
   ],
   "source": [
    "#concat new list at ending of ginen list   24\n",
    "l=['a','b','c','d']\n",
    "l+=[1,2,3]\n",
    "print(l)\n",
    "t=[\"haii\",\"hello\"]\n",
    "t=t+[\"bye\"]\n",
    "t"
   ]
  },
  {
   "cell_type": "code",
   "execution_count": 9,
   "metadata": {},
   "outputs": [
    {
     "data": {
      "text/plain": [
       "[1, 3, 5, 'a', 'b', 'd', 7, 8, 2, 4]"
      ]
     },
     "execution_count": 9,
     "metadata": {},
     "output_type": "execute_result"
    }
   ],
   "source": [
    "#cocat new values in the middle of the list   25\n",
    "l=[1,3,5,7,8,2,4,]\n",
    "l[len(l)//2:len(l)//2]=['a','b','d']\n",
    "l"
   ]
  },
  {
   "cell_type": "code",
   "execution_count": 10,
   "metadata": {},
   "outputs": [
    {
     "data": {
      "text/plain": [
       "[1, 4, 8, 'e', 'f', 'g', 4, 6, 7, 9]"
      ]
     },
     "execution_count": 10,
     "metadata": {},
     "output_type": "execute_result"
    }
   ],
   "source": [
    "#concat new values at specific position   26\n",
    "l=[1,4,8,4,6,7,9]\n",
    "#l[sp:sp]=new value\n",
    "l[3:3]=['e','f','g']\n",
    "l"
   ]
  },
  {
   "cell_type": "code",
   "execution_count": 11,
   "metadata": {},
   "outputs": [
    {
     "data": {
      "text/plain": [
       "[10, 20, 30, 60, 50]"
      ]
     },
     "execution_count": 11,
     "metadata": {},
     "output_type": "execute_result"
    }
   ],
   "source": [
    "#to modify specific values in list   27\n",
    "l=[10,20,30,40,50]\n",
    "l[3]=60\n",
    "l"
   ]
  },
  {
   "cell_type": "code",
   "execution_count": 12,
   "metadata": {},
   "outputs": [
    {
     "data": {
      "text/plain": [
       "[70, 20, 30, 40]"
      ]
     },
     "execution_count": 12,
     "metadata": {},
     "output_type": "execute_result"
    }
   ],
   "source": [
    "#TO modify new value into starting of lst   28\n",
    "l=[10,20,30,40]\n",
    "l[0]=70\n",
    "l"
   ]
  },
  {
   "cell_type": "code",
   "execution_count": 15,
   "metadata": {},
   "outputs": [
    {
     "name": "stdout",
     "output_type": "stream",
     "text": [
      "[1, 2, 3, 4, 222]\n",
      "[1, 2, 3, 4, 87]\n"
     ]
    }
   ],
   "source": [
    "#To modify new value at ending of list  29\n",
    "l=[1,2,3,4,5]\n",
    "l[-1]=222\n",
    "print(l)\n",
    "l[len(l)-1]=87\n",
    "print(l)"
   ]
  },
  {
   "cell_type": "code",
   "execution_count": 16,
   "metadata": {},
   "outputs": [
    {
     "data": {
      "text/plain": [
       "[1, 3, 4, 78, 6, 7]"
      ]
     },
     "execution_count": 16,
     "metadata": {},
     "output_type": "execute_result"
    }
   ],
   "source": [
    "#To modify new value into middle of list  30\n",
    "l=[1,3,4,5,6,7]\n",
    "l[len(l)//2]=78\n",
    "l"
   ]
  },
  {
   "cell_type": "code",
   "execution_count": 17,
   "metadata": {},
   "outputs": [
    {
     "data": {
      "text/plain": [
       "['a', 'b', 'c', 'd', 5, 6, 7]"
      ]
     },
     "execution_count": 17,
     "metadata": {},
     "output_type": "execute_result"
    }
   ],
   "source": [
    "#To modify starting 4 position values in list   31\n",
    "l=[1,2,3,4,5,6,7]\n",
    "l[0:4]=['a','b','c','d']\n",
    "l"
   ]
  },
  {
   "cell_type": "code",
   "execution_count": 22,
   "metadata": {},
   "outputs": [
    {
     "name": "stdout",
     "output_type": "stream",
     "text": [
      "[1, 'a', 3, 'b', 5, 'c', 6, 'd', 8]\n",
      "[1, 'a', 9, 'b', 25, 'c', 36, 'd', 64]\n"
     ]
    }
   ],
   "source": [
    "#To modify sequence of values in list   32\n",
    "l=[1,2,3,4,5,5,6,7,8]\n",
    "l[1::2]=['a','b','c','d']\n",
    "print(l)\n",
    "l[::2]=[l[0]**2,l[2]**2,l[4]**2,l[6]**2,l[8]**2]\n",
    "print(l)"
   ]
  },
  {
   "cell_type": "code",
   "execution_count": 24,
   "metadata": {},
   "outputs": [
    {
     "data": {
      "text/plain": [
       "[1, 2, 3, 4, 5]"
      ]
     },
     "execution_count": 24,
     "metadata": {},
     "output_type": "execute_result"
    }
   ],
   "source": [
    "#to delete value in the specific position of list   33\n",
    "l=[1,2,3,4,4,5]\n",
    "del l[3]\n",
    "l"
   ]
  },
  {
   "cell_type": "code",
   "execution_count": 25,
   "metadata": {},
   "outputs": [
    {
     "name": "stdout",
     "output_type": "stream",
     "text": [
      "[2, 3, 4, 5, 6, 7, 8]\n",
      "[2, 3, 4, 5, 6, 7]\n",
      "[2, 3, 4, 5, 6]\n"
     ]
    }
   ],
   "source": [
    "#TO delete value at ending and starting of list   34\n",
    "l=[1,2,3,4,5,6,7,8]\n",
    "del l[0]\n",
    "print(l)\n",
    "del l[-1]\n",
    "print(l)\n",
    "del l[len(l)-1]\n",
    "print(l)\n"
   ]
  },
  {
   "cell_type": "code",
   "execution_count": 27,
   "metadata": {},
   "outputs": [
    {
     "data": {
      "text/plain": [
       "[1, 2, 3, 4, 5, 6, 7]"
      ]
     },
     "execution_count": 27,
     "metadata": {},
     "output_type": "execute_result"
    }
   ],
   "source": [
    "#delete value at middle of list  35\n",
    "l=[1,2,3,4,5,6,7]\n",
    "l[len(l)//2:len(l)//2]=[]\n",
    "l"
   ]
  },
  {
   "cell_type": "code",
   "execution_count": 29,
   "metadata": {},
   "outputs": [
    {
     "name": "stdout",
     "output_type": "stream",
     "text": [
      "(1, 2, 3, 4, 5, 10, 20)\n",
      "(1, 2, 3, 4, 5, 10, 20, 50, 60)\n"
     ]
    }
   ],
   "source": [
    "#concat new value into ending of tuple  36\n",
    "t=(1,2,3,4,5)\n",
    "t=t+(10,20)\n",
    "print(t)\n",
    "t+=(50,60)\n",
    "print(t)"
   ]
  },
  {
   "cell_type": "code",
   "execution_count": 30,
   "metadata": {},
   "outputs": [
    {
     "data": {
      "text/plain": [
       "(10, 20, 30, 1, 2, 3, 4, 5)"
      ]
     },
     "execution_count": 30,
     "metadata": {},
     "output_type": "execute_result"
    }
   ],
   "source": [
    "#To concat new value at starting of tuple  37\n",
    "t=(1,2,3,4,5)\n",
    "t=(10,20,30)+t\n",
    "t"
   ]
  },
  {
   "cell_type": "code",
   "execution_count": 32,
   "metadata": {},
   "outputs": [
    {
     "data": {
      "text/plain": [
       "(1, 2, 3, 10, 20, 30)"
      ]
     },
     "execution_count": 32,
     "metadata": {},
     "output_type": "execute_result"
    }
   ],
   "source": [
    "#To modify sequence of values in tuple  38\n",
    "t=(1,2,3,4,5,6)\n",
    "t=t[:3]+(10,20,30)+t[6:]\n",
    "t"
   ]
  },
  {
   "cell_type": "code",
   "execution_count": 33,
   "metadata": {},
   "outputs": [
    {
     "data": {
      "text/plain": [
       "(10, 20, 30, 40, 80)"
      ]
     },
     "execution_count": 33,
     "metadata": {},
     "output_type": "execute_result"
    }
   ],
   "source": [
    "#To delte sequence of values in tuple   39\n",
    "t=(10,20,30,40,50,60,70,80)\n",
    "t=t[:4]+t[7:]\n",
    "t"
   ]
  },
  {
   "cell_type": "code",
   "execution_count": 35,
   "metadata": {},
   "outputs": [
    {
     "data": {
      "text/plain": [
       "{1, 2, 3, 4, 5, 6, 10, 30}"
      ]
     },
     "execution_count": 35,
     "metadata": {},
     "output_type": "execute_result"
    }
   ],
   "source": [
    "#To concat new values into the set   40\n",
    "s={1,2,3,4,5,6}\n",
    "s|={10,2,30}\n",
    "s"
   ]
  },
  {
   "cell_type": "code",
   "execution_count": 36,
   "metadata": {},
   "outputs": [
    {
     "data": {
      "text/plain": [
       "{1, 2, 5, 7}"
      ]
     },
     "execution_count": 36,
     "metadata": {},
     "output_type": "execute_result"
    }
   ],
   "source": [
    "#To delete sequence of value in set  41\n",
    "s={1,2,3,4,5,6,7,7}\n",
    "s-={3,4,6}\n",
    "s"
   ]
  },
  {
   "cell_type": "code",
   "execution_count": 37,
   "metadata": {},
   "outputs": [
    {
     "data": {
      "text/plain": [
       "{'a': 10, 'b': 20, 'c': 100}"
      ]
     },
     "execution_count": 37,
     "metadata": {},
     "output_type": "execute_result"
    }
   ],
   "source": [
    "#To concat new value and new key into the dict  42\n",
    "d={'a':10,'b':20}\n",
    "d['c']=100\n",
    "d"
   ]
  },
  {
   "cell_type": "code",
   "execution_count": 38,
   "metadata": {},
   "outputs": [
    {
     "data": {
      "text/plain": [
       "{10: 20, 50: 60}"
      ]
     },
     "execution_count": 38,
     "metadata": {},
     "output_type": "execute_result"
    }
   ],
   "source": [
    "#To delete item in dict  43\n",
    "d={10:20,30:40,50:60}\n",
    "del d[30]\n",
    "d"
   ]
  },
  {
   "cell_type": "code",
   "execution_count": 39,
   "metadata": {},
   "outputs": [
    {
     "data": {
      "text/plain": [
       "{10: 100, 20: 'a', 30: 3000}"
      ]
     },
     "execution_count": 39,
     "metadata": {},
     "output_type": "execute_result"
    }
   ],
   "source": [
    "#To modify specific value in dict   44\n",
    "d={10:100,20:200,30:3000}\n",
    "d[20]='a'\n",
    "d"
   ]
  },
  {
   "cell_type": "code",
   "execution_count": 40,
   "metadata": {},
   "outputs": [
    {
     "ename": "TypeError",
     "evalue": "can only concatenate list (not \"tuple\") to list",
     "output_type": "error",
     "traceback": [
      "\u001b[1;31m---------------------------------------------------------------------------\u001b[0m",
      "\u001b[1;31mTypeError\u001b[0m                                 Traceback (most recent call last)",
      "Cell \u001b[1;32mIn[40], line 4\u001b[0m\n\u001b[0;32m      2\u001b[0m l\u001b[39m=\u001b[39m[\u001b[39m'\u001b[39m\u001b[39ma\u001b[39m\u001b[39m'\u001b[39m,\u001b[39m'\u001b[39m\u001b[39mb\u001b[39m\u001b[39m'\u001b[39m,\u001b[39m'\u001b[39m\u001b[39mc\u001b[39m\u001b[39m'\u001b[39m,\u001b[39m'\u001b[39m\u001b[39md\u001b[39m\u001b[39m'\u001b[39m]\n\u001b[0;32m      3\u001b[0m t\u001b[39m=\u001b[39m(\u001b[39m10\u001b[39m,\u001b[39m20\u001b[39m,\u001b[39m30\u001b[39m)\n\u001b[1;32m----> 4\u001b[0m l\u001b[39m+\u001b[39;49mt\n",
      "\u001b[1;31mTypeError\u001b[0m: can only concatenate list (not \"tuple\") to list"
     ]
    }
   ],
   "source": [
    "#To concat list and tuplie values by using type casting   45\n",
    "l=['a','b','c','d']\n",
    "t=(10,20,30)\n",
    "l+t"
   ]
  },
  {
   "cell_type": "code",
   "execution_count": 41,
   "metadata": {},
   "outputs": [
    {
     "name": "stdout",
     "output_type": "stream",
     "text": [
      "[1, 2, 3, 4, 5, 10, 20, 30, 40]\n",
      "(1, 2, 3, 4, 5, 10, 20, 30, 40)\n"
     ]
    }
   ],
   "source": [
    "#To concat list and tuole by using type casting  46\n",
    "l=[1,2,3,4,5]\n",
    "t=(10,20,30,40)\n",
    "print(l+list(t))\n",
    "print(tuple(l)+t)"
   ]
  },
  {
   "cell_type": "code",
   "execution_count": 42,
   "metadata": {},
   "outputs": [
    {
     "data": {
      "text/plain": [
       "[1, 2, 3, 4, 5, 10, 20, 30, 40]"
      ]
     },
     "execution_count": 42,
     "metadata": {},
     "output_type": "execute_result"
    }
   ],
   "source": [
    "#To concat list and tuple values without using typecasting  47\n",
    "l=[1,2,3,4,5]\n",
    "t=(10,20,30,40)\n",
    "l+=t\n",
    "l"
   ]
  },
  {
   "cell_type": "code",
   "execution_count": 43,
   "metadata": {},
   "outputs": [
    {
     "name": "stdout",
     "output_type": "stream",
     "text": [
      "True\n"
     ]
    }
   ],
   "source": [
    "#To check given number is divisible by 3   48\n",
    "n=123\n",
    "print(n%3==0)\n"
   ]
  },
  {
   "cell_type": "code",
   "execution_count": 44,
   "metadata": {},
   "outputs": [
    {
     "name": "stdout",
     "output_type": "stream",
     "text": [
      "False\n"
     ]
    }
   ],
   "source": [
    "#To check given number is divisible by 2 or 6    49\n",
    "n=7688980\n",
    "print(n%2==0 and n%6==0)"
   ]
  },
  {
   "cell_type": "code",
   "execution_count": 45,
   "metadata": {},
   "outputs": [
    {
     "name": "stdout",
     "output_type": "stream",
     "text": [
      "True\n"
     ]
    }
   ],
   "source": [
    "#to check the last digit ids divsibl by 3 from integer number(with out casting)   50\n",
    "n=23349\n",
    "print((n%10)%3==0)"
   ]
  },
  {
   "cell_type": "code",
   "execution_count": 46,
   "metadata": {},
   "outputs": [
    {
     "name": "stdout",
     "output_type": "stream",
     "text": [
      "True\n"
     ]
    }
   ],
   "source": [
    "#To check last digit is divisible by 3 with type casting   51\n",
    "n=2023\n",
    "print((int(str(n)[-1]))%3==0)"
   ]
  },
  {
   "cell_type": "code",
   "execution_count": 47,
   "metadata": {},
   "outputs": [
    {
     "name": "stdout",
     "output_type": "stream",
     "text": [
      "True\n"
     ]
    }
   ],
   "source": [
    "#To check given number is greater than  or equalto 100   52\n",
    "n=277\n",
    "print(n>=100)"
   ]
  },
  {
   "cell_type": "code",
   "execution_count": 48,
   "metadata": {},
   "outputs": [
    {
     "name": "stdout",
     "output_type": "stream",
     "text": [
      "True\n"
     ]
    }
   ],
   "source": [
    "#To check given number is lessthan or equal to 100   53\n",
    "n=54\n",
    "print(n<=100)"
   ]
  },
  {
   "cell_type": "code",
   "execution_count": 49,
   "metadata": {},
   "outputs": [
    {
     "name": "stdout",
     "output_type": "stream",
     "text": [
      "True\n"
     ]
    }
   ],
   "source": [
    "#to check given number is greater than 15 or less than 24   54\n",
    "n=5797\n",
    "print(n>15 or n<24)"
   ]
  },
  {
   "cell_type": "code",
   "execution_count": 50,
   "metadata": {},
   "outputs": [
    {
     "name": "stdout",
     "output_type": "stream",
     "text": [
      "True\n"
     ]
    }
   ],
   "source": [
    "#To check given number is greater than 150   55\n",
    "n=244\n",
    "print(n>150)"
   ]
  },
  {
   "cell_type": "code",
   "execution_count": 51,
   "metadata": {},
   "outputs": [
    {
     "name": "stdout",
     "output_type": "stream",
     "text": [
      "True\n"
     ]
    }
   ],
   "source": [
    "#To check the given number is even or not   56\n",
    "n=466\n",
    "print(n%2==0)"
   ]
  },
  {
   "cell_type": "code",
   "execution_count": 52,
   "metadata": {},
   "outputs": [
    {
     "name": "stdout",
     "output_type": "stream",
     "text": [
      "True\n"
     ]
    }
   ],
   "source": [
    "#To check the given number is odd or not  57\n",
    "n=63509\n",
    "print(n%2!=0)"
   ]
  },
  {
   "cell_type": "code",
   "execution_count": 55,
   "metadata": {},
   "outputs": [
    {
     "name": "stdout",
     "output_type": "stream",
     "text": [
      "abcabcabcabc\n",
      "[1, 2, 3, 1, 2, 3, 1, 2, 3]\n",
      "(10, 20, 30, 10, 20, 30, 10, 20, 30, 10, 20, 30)\n"
     ]
    }
   ],
   "source": [
    "#to perform the replication of a given string with 0  58\n",
    "s=\"abc\"\n",
    "print(s*4)\n",
    "l=[1,2,3]\n",
    "print(l*3)\n",
    "\"\"\"\"d={'a':10,'b':20}\n",
    "print(d*3)\"\"\"\"\"\n",
    "t=(10,20,30)\n",
    "print(t*4)"
   ]
  },
  {
   "cell_type": "code",
   "execution_count": 56,
   "metadata": {},
   "outputs": [
    {
     "ename": "TypeError",
     "evalue": "unsupported operand type(s) for *: 'dict' and 'int'",
     "output_type": "error",
     "traceback": [
      "\u001b[1;31m---------------------------------------------------------------------------\u001b[0m",
      "\u001b[1;31mTypeError\u001b[0m                                 Traceback (most recent call last)",
      "Cell \u001b[1;32mIn[56], line 3\u001b[0m\n\u001b[0;32m      1\u001b[0m \u001b[39m# To perform replication on set and dict    59\u001b[39;00m\n\u001b[0;32m      2\u001b[0m d\u001b[39m=\u001b[39m{\u001b[39m'\u001b[39m\u001b[39ma\u001b[39m\u001b[39m'\u001b[39m:\u001b[39m10\u001b[39m,\u001b[39m'\u001b[39m\u001b[39mb\u001b[39m\u001b[39m'\u001b[39m:\u001b[39m20\u001b[39m}\n\u001b[1;32m----> 3\u001b[0m \u001b[39mprint\u001b[39m(d\u001b[39m*\u001b[39;49m\u001b[39m3\u001b[39;49m)\n\u001b[0;32m      4\u001b[0m s\u001b[39m=\u001b[39m{\u001b[39m1\u001b[39m,\u001b[39m2\u001b[39m,\u001b[39m3\u001b[39m,\u001b[39m5\u001b[39m}\n\u001b[0;32m      5\u001b[0m \u001b[39mprint\u001b[39m(s\u001b[39m*\u001b[39m\u001b[39m3\u001b[39m)\n",
      "\u001b[1;31mTypeError\u001b[0m: unsupported operand type(s) for *: 'dict' and 'int'"
     ]
    }
   ],
   "source": [
    "# To perform replication on set and dict    59\n",
    "d={'a':10,'b':20}\n",
    "print(d*3)\n",
    "s={1,2,3,5}\n",
    "print(s*3)"
   ]
  },
  {
   "cell_type": "code",
   "execution_count": 57,
   "metadata": {},
   "outputs": [
    {
     "name": "stdout",
     "output_type": "stream",
     "text": [
      "False\n"
     ]
    }
   ],
   "source": [
    "#To check given number is divisible by 3 and also number should be greaer than 22  60\n",
    "n=356\n",
    "print(n%3==0 and n>22)"
   ]
  },
  {
   "cell_type": "code",
   "execution_count": 58,
   "metadata": {},
   "outputs": [
    {
     "name": "stdout",
     "output_type": "stream",
     "text": [
      "False\n"
     ]
    }
   ],
   "source": [
    "#To check perform the length of collection is lessthan 55 and greater than 16   61\n",
    "n=\"Helloworld\"\n",
    "print(len(n)<55 and len(n)>16)"
   ]
  },
  {
   "cell_type": "code",
   "execution_count": 59,
   "metadata": {},
   "outputs": [
    {
     "name": "stdout",
     "output_type": "stream",
     "text": [
      "True\n"
     ]
    }
   ],
   "source": [
    "#To check length of collection is even or not   62\n",
    "n=\"ankjffdvndkjfo\"\n",
    "print(len(n)%2==0)"
   ]
  },
  {
   "cell_type": "code",
   "execution_count": 1,
   "metadata": {},
   "outputs": [
    {
     "name": "stdout",
     "output_type": "stream",
     "text": [
      "True\n"
     ]
    }
   ],
   "source": [
    "#To check length of collection is lessthan 55 and greater than 16   63\n",
    "h=\"ldfhrygruwtueodkajfoirwut\"\n",
    "print(len(h)>16 and len(h)<55)\n"
   ]
  },
  {
   "cell_type": "code",
   "execution_count": 3,
   "metadata": {},
   "outputs": [
    {
     "name": "stdout",
     "output_type": "stream",
     "text": [
      "False\n"
     ]
    }
   ],
   "source": [
    "#to check length of collection is divisible by 5 and odd    64\n",
    "h=\"abcdefghijklmnopqrstuvwxyz\"\n",
    "print(len(h)%5==0 and len(h)%2!=0)"
   ]
  },
  {
   "cell_type": "code",
   "execution_count": 1,
   "metadata": {},
   "outputs": [
    {
     "name": "stdout",
     "output_type": "stream",
     "text": [
      "t\n",
      "<class 'str'>\n"
     ]
    }
   ],
   "source": [
    "#To extract middle position of given collection   65\n",
    "s='hellothere'\n",
    "s=s[len(s)//2]\n",
    "print(s)\n",
    "res=type(s[len(s)//2])\n",
    "print(res)"
   ]
  },
  {
   "cell_type": "code",
   "execution_count": 2,
   "metadata": {},
   "outputs": [
    {
     "name": "stdout",
     "output_type": "stream",
     "text": [
      "False\n"
     ]
    }
   ],
   "source": [
    "#To check given number is greaterthan 30 and lessthan 30 and it should be even   66\n",
    "n=25\n",
    "print(n>30 and n<20 and n%2==0)"
   ]
  },
  {
   "cell_type": "code",
   "execution_count": 3,
   "metadata": {},
   "outputs": [
    {
     "name": "stdout",
     "output_type": "stream",
     "text": [
      "True\n"
     ]
    }
   ],
   "source": [
    "#To check given number is even and it should be lessthan 120    67\n",
    "n=100\n",
    "print(n%2==0 and n<120)"
   ]
  },
  {
   "cell_type": "code",
   "execution_count": 4,
   "metadata": {},
   "outputs": [
    {
     "name": "stdout",
     "output_type": "stream",
     "text": [
      "False\n"
     ]
    }
   ],
   "source": [
    "#To check given number is even and lessthan 90   68\n",
    "n=99\n",
    "print(n%2==0 and n>97)"
   ]
  },
  {
   "cell_type": "code",
   "execution_count": 5,
   "metadata": {},
   "outputs": [
    {
     "name": "stdout",
     "output_type": "stream",
     "text": [
      "True\n"
     ]
    }
   ],
   "source": [
    "#To check given number lessthan 122 and greaterthan 48 and number shoul be divisible by 4  69\n",
    "n=100\n",
    "print(n%4==0 and n>48 and n<122 )"
   ]
  },
  {
   "cell_type": "code",
   "execution_count": 6,
   "metadata": {},
   "outputs": [
    {
     "name": "stdout",
     "output_type": "stream",
     "text": [
      "True\n"
     ]
    }
   ],
   "source": [
    "#To check gien number is divisible by 3 or not    70\n",
    "n=24\n",
    "n=n%3==0\n",
    "print(n)"
   ]
  },
  {
   "cell_type": "code",
   "execution_count": 7,
   "metadata": {},
   "outputs": [
    {
     "name": "stdout",
     "output_type": "stream",
     "text": [
      "True\n"
     ]
    }
   ],
   "source": [
    "#To check givn number is between 100 and 200 including the limit   71\n",
    "n=150\n",
    "print(100<=n<=200)"
   ]
  },
  {
   "cell_type": "code",
   "execution_count": 8,
   "metadata": {},
   "outputs": [
    {
     "name": "stdout",
     "output_type": "stream",
     "text": [
      "True\n"
     ]
    }
   ],
   "source": [
    "#To check number in between 100 and 200   72\n",
    "n=125\n",
    "print(100<n<200)"
   ]
  },
  {
   "cell_type": "code",
   "execution_count": 11,
   "metadata": {},
   "outputs": [
    {
     "name": "stdout",
     "output_type": "stream",
     "text": [
      "False\n",
      "True\n"
     ]
    }
   ],
   "source": [
    "#To check given string last character ascii value should be divisible by 5 or not  73\n",
    "s=\"apple\"\n",
    "print(ord(s[-1])%5==0)\n",
    "s=\"appld\"\n",
    "print(ord(s[-1])%5==0)"
   ]
  },
  {
   "cell_type": "code",
   "execution_count": 14,
   "metadata": {},
   "outputs": [
    {
     "name": "stdout",
     "output_type": "stream",
     "text": [
      "False\n",
      "True\n"
     ]
    }
   ],
   "source": [
    "#To check in between 60 to 130 and should be divisible by 3 nd 4 & last digit should be <9  74\n",
    "n=129\n",
    "print(60<n<130 and n%3==0 and n%4==0 and n%10>9)\n",
    "n=120\n",
    "print(60<n<130 and n%3==0 and n%4==0 and n%10<9)"
   ]
  },
  {
   "cell_type": "code",
   "execution_count": 15,
   "metadata": {},
   "outputs": [
    {
     "name": "stdout",
     "output_type": "stream",
     "text": [
      "True\n"
     ]
    }
   ],
   "source": [
    "#To check given number is even or lessthan 28   75\n",
    "n=26\n",
    "print(n%2==0 or n<28)"
   ]
  },
  {
   "cell_type": "code",
   "execution_count": 16,
   "metadata": {},
   "outputs": [
    {
     "name": "stdout",
     "output_type": "stream",
     "text": [
      "True\n"
     ]
    }
   ],
   "source": [
    "#To check given odd or greaterthan 28   76\n",
    "n=81\n",
    "print(n%2!=0 or n<28)"
   ]
  },
  {
   "cell_type": "code",
   "execution_count": 17,
   "metadata": {},
   "outputs": [
    {
     "name": "stdout",
     "output_type": "stream",
     "text": [
      "False\n"
     ]
    }
   ],
   "source": [
    "#To check given number is divisible by either 3 or 5    77\n",
    "n=16\n",
    "print(n%3==0 or n%5==0)"
   ]
  },
  {
   "cell_type": "code",
   "execution_count": 18,
   "metadata": {},
   "outputs": [
    {
     "name": "stdout",
     "output_type": "stream",
     "text": [
      "False\n"
     ]
    }
   ],
   "source": [
    "#To check given number is not an even number   78\n",
    "n=10\n",
    "print(n%2!=0)"
   ]
  },
  {
   "cell_type": "code",
   "execution_count": 19,
   "metadata": {},
   "outputs": [
    {
     "name": "stdout",
     "output_type": "stream",
     "text": [
      "True\n"
     ]
    }
   ],
   "source": [
    "#t check given umber is not odd    79\n",
    "n=30\n",
    "print(n%2==0)"
   ]
  },
  {
   "cell_type": "code",
   "execution_count": 20,
   "metadata": {},
   "outputs": [
    {
     "name": "stdout",
     "output_type": "stream",
     "text": [
      "True\n"
     ]
    }
   ],
   "source": [
    "#To check number is not a divisible by 3   80\n",
    "n=40\n",
    "print(n%3!=0)"
   ]
  },
  {
   "cell_type": "code",
   "execution_count": 21,
   "metadata": {},
   "outputs": [
    {
     "name": "stdout",
     "output_type": "stream",
     "text": [
      "True\n"
     ]
    }
   ],
   "source": [
    "#To check number not divisible by 3 and 5   81\n",
    "n=50\n",
    "print(n%3!=0 or n%5!=0)"
   ]
  },
  {
   "cell_type": "code",
   "execution_count": 22,
   "metadata": {},
   "outputs": [
    {
     "name": "stdout",
     "output_type": "stream",
     "text": [
      "True\n"
     ]
    }
   ],
   "source": [
    "#To check number by 3 or 5   82\n",
    "n=20\n",
    "print(n%3!=0 or n%5!=0)"
   ]
  },
  {
   "cell_type": "code",
   "execution_count": 23,
   "metadata": {},
   "outputs": [
    {
     "name": "stdout",
     "output_type": "stream",
     "text": [
      "True\n"
     ]
    }
   ],
   "source": [
    "#To check given character ascii value is not divisible by 5  83\n",
    "ch='c'\n",
    "ch=ord('c')\n",
    "print(ch%5!=0)"
   ]
  },
  {
   "cell_type": "code",
   "execution_count": 26,
   "metadata": {},
   "outputs": [
    {
     "name": "stdout",
     "output_type": "stream",
     "text": [
      "A\n",
      "-\n",
      "\u0017\n"
     ]
    }
   ],
   "source": [
    "#To find out ascii character for given number   84\n",
    "n=65\n",
    "n=chr(n)\n",
    "print(n)\n",
    "n=45\n",
    "n=chr(n)\n",
    "print(n)\n",
    "k=23\n",
    "k=chr(k)\n",
    "print(k)"
   ]
  },
  {
   "cell_type": "code",
   "execution_count": 28,
   "metadata": {},
   "outputs": [
    {
     "name": "stdout",
     "output_type": "stream",
     "text": [
      "97\n",
      "62\n"
     ]
    }
   ],
   "source": [
    "#Equation to find out ascii value   85\n",
    "n='a'\n",
    "n=ord(n)\n",
    "print(n)\n",
    "p='>'\n",
    "p=ord(p)\n",
    "print(p)"
   ]
  },
  {
   "cell_type": "code",
   "execution_count": 31,
   "metadata": {},
   "outputs": [
    {
     "name": "stdout",
     "output_type": "stream",
     "text": [
      "False\n",
      "True\n",
      "True\n"
     ]
    }
   ],
   "source": [
    "#check given character is uppercase or not   86\n",
    "ch='g'\n",
    "print('A'<=ch<='Z')\n",
    "u='G'\n",
    "print('A'<=u<='Z')\n",
    "r='De'\n",
    "print('A'<=r<='Z')"
   ]
  },
  {
   "cell_type": "code",
   "execution_count": 32,
   "metadata": {},
   "outputs": [
    {
     "name": "stdout",
     "output_type": "stream",
     "text": [
      "False\n"
     ]
    }
   ],
   "source": [
    "#To check given charecter is upper case or not   87\n",
    "j='Gj'\n",
    "print(len(j)==1 and 'A'<=j<='Z')"
   ]
  },
  {
   "cell_type": "code",
   "execution_count": null,
   "metadata": {},
   "outputs": [],
   "source": []
  },
  {
   "cell_type": "code",
   "execution_count": 36,
   "metadata": {},
   "outputs": [
    {
     "name": "stdout",
     "output_type": "stream",
     "text": [
      "True\n",
      "True\n"
     ]
    }
   ],
   "source": [
    "#to check given charecter is lower case or not  88\n",
    "m='d'\n",
    "print('a'<=m<='z')\n",
    "m='dT'\n",
    "print('a'<=m<='z')\n"
   ]
  },
  {
   "cell_type": "code",
   "execution_count": 37,
   "metadata": {},
   "outputs": [
    {
     "name": "stdout",
     "output_type": "stream",
     "text": [
      "False\n"
     ]
    }
   ],
   "source": [
    "#To check given character is lower case or not  89\n",
    "m='dT'\n",
    "print(len(m)==1 and 'a'<=m<='z')\n"
   ]
  },
  {
   "cell_type": "code",
   "execution_count": 48,
   "metadata": {},
   "outputs": [
    {
     "name": "stdout",
     "output_type": "stream",
     "text": [
      "True\n",
      "False\n",
      "False\n"
     ]
    }
   ],
   "source": [
    "#To check given character is alphabet or not   90\n",
    "j='s'\n",
    "print('A'<=j<='Z' or 'a'<=j<='z')\n",
    "k='Tu'\n",
    "print(len(k)==1 and 'A'<=k<='Z' or 'a'<=k<='z')\n",
    "x='3'\n",
    "print('A'<=x<='Z' or 'a'<=x<='z')"
   ]
  },
  {
   "cell_type": "code",
   "execution_count": 50,
   "metadata": {},
   "outputs": [
    {
     "name": "stdout",
     "output_type": "stream",
     "text": [
      "True\n",
      "True\n"
     ]
    }
   ],
   "source": [
    "#To check given character is ascii number    91\n",
    "j='4'\n",
    "print('0'<=j<='9') \n",
    "print(len(j)==1 and '0'<=j<='9')"
   ]
  },
  {
   "cell_type": "code",
   "execution_count": 56,
   "metadata": {},
   "outputs": [
    {
     "name": "stdout",
     "output_type": "stream",
     "text": [
      "False\n",
      "True\n"
     ]
    }
   ],
   "source": [
    "#To check given chracter is special character or not   92\n",
    "i=\"&\"\n",
    "print('A'<=i<='Z' or 'a'<=i<='z' or '0'<=i<='9')\n",
    "print(len(i)==1 and not ('A'<=i<='Z' or 'a'<=i<='z' or '0'<=i<='9'))"
   ]
  },
  {
   "cell_type": "code",
   "execution_count": 58,
   "metadata": {},
   "outputs": [
    {
     "name": "stdout",
     "output_type": "stream",
     "text": [
      "False\n"
     ]
    }
   ],
   "source": [
    "#To check given character should not be uppercase   93\n",
    "n='A'\n",
    "print(not('A'<=n<='Z'))"
   ]
  },
  {
   "cell_type": "code",
   "execution_count": 59,
   "metadata": {},
   "outputs": [
    {
     "name": "stdout",
     "output_type": "stream",
     "text": [
      "False\n"
     ]
    }
   ],
   "source": [
    "#To check given character should not be lowercase   94\n",
    "n='e'\n",
    "print(not('a'<=n<='z'))"
   ]
  },
  {
   "cell_type": "code",
   "execution_count": 60,
   "metadata": {},
   "outputs": [
    {
     "name": "stdout",
     "output_type": "stream",
     "text": [
      "True\n"
     ]
    }
   ],
   "source": [
    "#To check given character should not be special character   95\n",
    "n='p'\n",
    "print(not('A'<=n<='Z and' 'a'<=n<='z'))"
   ]
  },
  {
   "cell_type": "code",
   "execution_count": 62,
   "metadata": {},
   "outputs": [
    {
     "name": "stdout",
     "output_type": "stream",
     "text": [
      "True\n"
     ]
    }
   ],
   "source": [
    "#To check given character should not be an ascii number   96\n",
    "n='h'\n",
    "print(not('0'<=n<='9'))\n"
   ]
  },
  {
   "cell_type": "code",
   "execution_count": 64,
   "metadata": {},
   "outputs": [
    {
     "name": "stdout",
     "output_type": "stream",
     "text": [
      "True\n"
     ]
    }
   ],
   "source": [
    "#To check if given character is special charecter   97\n",
    "n='$'\n",
    "print(not('A'<=n<='Z' and 'a'<=n<='z' and '0'<=n<='9'))"
   ]
  },
  {
   "cell_type": "code",
   "execution_count": 66,
   "metadata": {},
   "outputs": [
    {
     "name": "stdout",
     "output_type": "stream",
     "text": [
      "True\n",
      "True\n"
     ]
    }
   ],
   "source": [
    "#to check given characer is vowel    98\n",
    "t='A'\n",
    "print(t=='A' or t=='E' or t=='I' or t=='O' or t=='U' or t=='a' or t=='e' or t=='i' or t=='o' or t=='u' )\n",
    "print(t in \"aeiouAEIOU\")"
   ]
  },
  {
   "cell_type": "code",
   "execution_count": 70,
   "metadata": {},
   "outputs": [
    {
     "name": "stdout",
     "output_type": "stream",
     "text": [
      "True\n",
      "True\n"
     ]
    }
   ],
   "source": [
    "#To check given character is consnent   99\n",
    "t='w'\n",
    "print(not(t=='A' or t=='E' or t=='I' or t=='O' or t=='U' or t=='a' or t=='e' or t=='i' or t=='o' or t=='u'))\n",
    "print( t not in\"aeiouAEIOU\")"
   ]
  },
  {
   "cell_type": "code",
   "execution_count": 73,
   "metadata": {},
   "outputs": [
    {
     "name": "stdout",
     "output_type": "stream",
     "text": [
      "i\n",
      "i\n"
     ]
    }
   ],
   "source": [
    "#To convert to uppercase to lowercase   100\n",
    "u='I'\n",
    "print(chr(ord(u)+32))\n",
    "print(u.lower())\n"
   ]
  },
  {
   "cell_type": "code",
   "execution_count": 81,
   "metadata": {},
   "outputs": [
    {
     "name": "stdout",
     "output_type": "stream",
     "text": [
      "E\n",
      "E\n"
     ]
    }
   ],
   "source": [
    "#To convert lowercase to uppercase   101\n",
    "r='e'\n",
    "print(chr(ord(r)-32))\n",
    "print(r.upper())"
   ]
  },
  {
   "cell_type": "code",
   "execution_count": 82,
   "metadata": {},
   "outputs": [
    {
     "name": "stdout",
     "output_type": "stream",
     "text": [
      "J\n"
     ]
    }
   ],
   "source": [
    "#To extract previous character of  given character   102\n",
    "u='K'\n",
    "print(chr(ord(u)-1)) "
   ]
  },
  {
   "cell_type": "code",
   "execution_count": 84,
   "metadata": {},
   "outputs": [
    {
     "name": "stdout",
     "output_type": "stream",
     "text": [
      "l\n"
     ]
    }
   ],
   "source": [
    "#To extract next character   103\n",
    "u='k'\n",
    "print(chr(ord(u)+1))"
   ]
  },
  {
   "cell_type": "code",
   "execution_count": 85,
   "metadata": {},
   "outputs": [
    {
     "name": "stdout",
     "output_type": "stream",
     "text": [
      "False\n"
     ]
    }
   ],
   "source": [
    "#To charecter is converted to ascii and value is even as well asshould be lower case   104\n",
    "t='r'\n",
    "print(len(t)==1 and ord(r)%2==0 and 'a'<=t<='z')"
   ]
  },
  {
   "cell_type": "code",
   "execution_count": 87,
   "metadata": {},
   "outputs": [
    {
     "name": "stdout",
     "output_type": "stream",
     "text": [
      "False\n"
     ]
    }
   ],
   "source": [
    "#To character is converted to ascii and is odd and should be uppercase   105\n",
    "n='s'\n",
    "print(len(n)==1 and ord(n)%2!=0 and 'A'<=n<='Z')"
   ]
  },
  {
   "cell_type": "code",
   "execution_count": 89,
   "metadata": {},
   "outputs": [
    {
     "name": "stdout",
     "output_type": "stream",
     "text": [
      "False\n"
     ]
    }
   ],
   "source": [
    "#To converted to char and is not a special character   106\n",
    "n='t'\n",
    "print(len(n)==1 and 'a'<=n<='z' and 'A'<=n<='Z')"
   ]
  },
  {
   "cell_type": "code",
   "execution_count": 93,
   "metadata": {},
   "outputs": [
    {
     "name": "stdout",
     "output_type": "stream",
     "text": [
      "True\n",
      "True\n"
     ]
    }
   ],
   "source": [
    "#To check ifthe first and second caracter are sequence or not in a given string    107\n",
    "s=\"abcd\"\n",
    "print(ord(s[0])+1==ord(s[1]))\n",
    "print(ord(s[0])==ord(s[1])-1)"
   ]
  },
  {
   "cell_type": "code",
   "execution_count": 94,
   "metadata": {},
   "outputs": [
    {
     "name": "stdout",
     "output_type": "stream",
     "text": [
      "True\n"
     ]
    }
   ],
   "source": [
    "#To check given chracter ascii value should be either greaterthan 50 or greaterthan 28 or less than112   108\n",
    "t='0'\n",
    "print(ord(t)>25 or ord(t)<112)"
   ]
  },
  {
   "cell_type": "code",
   "execution_count": 95,
   "metadata": {},
   "outputs": [
    {
     "name": "stdout",
     "output_type": "stream",
     "text": [
      "11\n"
     ]
    }
   ],
   "source": [
    "#Given character increased by 1   109\n",
    "m=10\n",
    "print(m+1)\n"
   ]
  },
  {
   "cell_type": "code",
   "execution_count": 96,
   "metadata": {},
   "outputs": [
    {
     "name": "stdout",
     "output_type": "stream",
     "text": [
      "True\n"
     ]
    }
   ],
   "source": [
    "#to check given integer present in coleection or not    110\n",
    "n=10\n",
    "c=[10,20,30,40]\n",
    "print(n in c)"
   ]
  },
  {
   "cell_type": "code",
   "execution_count": 97,
   "metadata": {},
   "outputs": [
    {
     "name": "stdout",
     "output_type": "stream",
     "text": [
      "False\n"
     ]
    }
   ],
   "source": [
    "#To perform addition operation on A value and B value and final result should be updated A  111\n",
    "s='D'\n",
    "c=\"pyspiders\"\n",
    "print(s in c)"
   ]
  },
  {
   "cell_type": "code",
   "execution_count": 98,
   "metadata": {},
   "outputs": [
    {
     "name": "stdout",
     "output_type": "stream",
     "text": [
      "True\n"
     ]
    }
   ],
   "source": [
    "#to check given list is present in tuple    112\n",
    "s=[10,20]\n",
    "t=(1,2,3,[10,20])\n",
    "print(s in t)"
   ]
  },
  {
   "cell_type": "code",
   "execution_count": 99,
   "metadata": {},
   "outputs": [
    {
     "name": "stdout",
     "output_type": "stream",
     "text": [
      "False\n"
     ]
    }
   ],
   "source": [
    "#To check given dict value is present in tuple  113\n",
    "s={'a':10,'b':20}\n",
    "t=(1,2,3,4,5,{'a':10})\n",
    "print(s in t)"
   ]
  },
  {
   "cell_type": "code",
   "execution_count": 100,
   "metadata": {},
   "outputs": [
    {
     "data": {
      "text/plain": [
       "int"
      ]
     },
     "execution_count": 100,
     "metadata": {},
     "output_type": "execute_result"
    }
   ],
   "source": [
    "#To check given character is integer or not   114\n",
    "b=15\n",
    "type(15)"
   ]
  },
  {
   "cell_type": "code",
   "execution_count": 101,
   "metadata": {},
   "outputs": [
    {
     "data": {
      "text/plain": [
       "str"
      ]
     },
     "execution_count": 101,
     "metadata": {},
     "output_type": "execute_result"
    }
   ],
   "source": [
    "#To check givn value is string or not    115\n",
    "b='112'\n",
    "type(b)"
   ]
  },
  {
   "cell_type": "code",
   "execution_count": 102,
   "metadata": {},
   "outputs": [
    {
     "name": "stdout",
     "output_type": "stream",
     "text": [
      "True\n"
     ]
    }
   ],
   "source": [
    "#to check given value is single or not  116\n",
    "c=b'1010'\n",
    "print(type(c)in[int,float,complex,bytes,type(None)])"
   ]
  },
  {
   "cell_type": "code",
   "execution_count": 104,
   "metadata": {},
   "outputs": [
    {
     "name": "stdout",
     "output_type": "stream",
     "text": [
      "True\n"
     ]
    }
   ],
   "source": [
    "#To check given value is should not be a single value   117\n",
    "c='1010'\n",
    "print(type(c) not in[int,float,complex,bytes,type(None)])"
   ]
  },
  {
   "cell_type": "code",
   "execution_count": 105,
   "metadata": {},
   "outputs": [
    {
     "name": "stdout",
     "output_type": "stream",
     "text": [
      "True\n"
     ]
    }
   ],
   "source": [
    "#To check given value is multi value or nt   118\n",
    "c=\"psy\"\n",
    "print(type(c)in[str,list,tuple,dict,set])"
   ]
  },
  {
   "cell_type": "code",
   "execution_count": 106,
   "metadata": {},
   "outputs": [
    {
     "name": "stdout",
     "output_type": "stream",
     "text": [
      "False\n"
     ]
    }
   ],
   "source": [
    "#To check given value is multi value or nt   119\n",
    "c=\"psy\"\n",
    "print(type(c) not in[str,list,tuple,dict,set])"
   ]
  },
  {
   "cell_type": "code",
   "execution_count": 108,
   "metadata": {},
   "outputs": [
    {
     "name": "stdout",
     "output_type": "stream",
     "text": [
      "False\n",
      "False\n"
     ]
    }
   ],
   "source": [
    "#To check given is mutable or not  120\n",
    "u=\"haii\"\n",
    "print(type(u)in[list,dict,set])\n",
    "print(type(u)not in[int,float,complex,bytes,str,tuple])"
   ]
  },
  {
   "cell_type": "code",
   "execution_count": 111,
   "metadata": {},
   "outputs": [
    {
     "name": "stdout",
     "output_type": "stream",
     "text": [
      "True\n",
      "True\n"
     ]
    }
   ],
   "source": [
    "#To check given is immutable or not  121\n",
    "u=\"hello\"\n",
    "print(type(u)not in[list,set,dict])\n",
    "print(type(u)in[int,float,complex,bytes,str,tuple])"
   ]
  },
  {
   "cell_type": "code",
   "execution_count": 112,
   "metadata": {},
   "outputs": [
    {
     "name": "stdout",
     "output_type": "stream",
     "text": [
      "False\n"
     ]
    }
   ],
   "source": [
    "#divisible by 6 as well as present in collection  122\n",
    "n=36\n",
    "print(n%6==0 and n in[10,20,34,78])"
   ]
  },
  {
   "cell_type": "code",
   "execution_count": 113,
   "metadata": {},
   "outputs": [
    {
     "data": {
      "text/plain": [
       "16"
      ]
     },
     "execution_count": 113,
     "metadata": {},
     "output_type": "execute_result"
    }
   ],
   "source": [
    "#to perform bitwiesand operation in given values   123\n",
    "m=16\n",
    "n=19\n",
    "m&n"
   ]
  },
  {
   "cell_type": "code",
   "execution_count": 114,
   "metadata": {},
   "outputs": [
    {
     "data": {
      "text/plain": [
       "55"
      ]
     },
     "execution_count": 114,
     "metadata": {},
     "output_type": "execute_result"
    }
   ],
   "source": [
    "#To perform bitwise or operation  124\n",
    "m=54\n",
    "n=23\n",
    "m|n"
   ]
  },
  {
   "cell_type": "code",
   "execution_count": 115,
   "metadata": {},
   "outputs": [
    {
     "data": {
      "text/plain": [
       "73"
      ]
     },
     "execution_count": 115,
     "metadata": {},
     "output_type": "execute_result"
    }
   ],
   "source": [
    "#To perform bitwise xor operation   125\n",
    "m=43\n",
    "n=98\n",
    "m^n"
   ]
  },
  {
   "cell_type": "code",
   "execution_count": 116,
   "metadata": {},
   "outputs": [
    {
     "name": "stdout",
     "output_type": "stream",
     "text": [
      "-44\n"
     ]
    }
   ],
   "source": [
    "#To perform bitwise not operation  126\n",
    "m=43\n",
    "print(~m)"
   ]
  },
  {
   "cell_type": "code",
   "execution_count": 117,
   "metadata": {},
   "outputs": [
    {
     "name": "stdout",
     "output_type": "stream",
     "text": [
      "120\n"
     ]
    }
   ],
   "source": [
    "#To perform bitwise leftshift   127\n",
    "n=15\n",
    "n=n<<3\n",
    "print(n)"
   ]
  },
  {
   "cell_type": "code",
   "execution_count": 118,
   "metadata": {},
   "outputs": [
    {
     "name": "stdout",
     "output_type": "stream",
     "text": [
      "8\n"
     ]
    }
   ],
   "source": [
    "#To perform bitwise rightshift  128\n",
    "m=34\n",
    "m=m>>2\n",
    "print(m)"
   ]
  },
  {
   "cell_type": "code",
   "execution_count": null,
   "metadata": {},
   "outputs": [],
   "source": [
    "#findout  "
   ]
  },
  {
   "cell_type": "code",
   "execution_count": 120,
   "metadata": {},
   "outputs": [
    {
     "name": "stdout",
     "output_type": "stream",
     "text": [
      "True\n",
      "True\n"
     ]
    }
   ],
   "source": [
    "#To check if given key is present in dict or not   130\n",
    "d={'a':10,'hai':20,(100,):(10,20)}\n",
    "k='a'\n",
    "print(k in d)\n",
    "print(k in d.keys())"
   ]
  },
  {
   "cell_type": "code",
   "execution_count": 122,
   "metadata": {},
   "outputs": [
    {
     "name": "stdout",
     "output_type": "stream",
     "text": [
      "False\n",
      "True\n"
     ]
    }
   ],
   "source": [
    "#To check if given value is prsent in dict or not  131\n",
    "d={'a':10,'h':80,'u':5}\n",
    "k=10\n",
    "print(k in d)\n",
    "print(k in d.values())"
   ]
  },
  {
   "cell_type": "code",
   "execution_count": 123,
   "metadata": {},
   "outputs": [
    {
     "name": "stdout",
     "output_type": "stream",
     "text": [
      "False\n"
     ]
    }
   ],
   "source": [
    "#To check if ky is not present in dict   132\n",
    "d={1:2,6:4,0:5}\n",
    "k=1\n",
    "print(k not in d)"
   ]
  },
  {
   "cell_type": "code",
   "execution_count": 126,
   "metadata": {},
   "outputs": [
    {
     "name": "stdout",
     "output_type": "stream",
     "text": [
      "True\n"
     ]
    }
   ],
   "source": [
    "#To check if key value pair is present in dict or not   133\n",
    "d={'a':10,'b':20,'c':30}\n",
    "k=('a',10)\n",
    "print(k in d.items())"
   ]
  },
  {
   "cell_type": "code",
   "execution_count": 127,
   "metadata": {},
   "outputs": [
    {
     "name": "stderr",
     "output_type": "stream",
     "text": [
      "<>:2: SyntaxWarning: \"is\" with a literal. Did you mean \"==\"?\n",
      "<>:2: SyntaxWarning: \"is\" with a literal. Did you mean \"==\"?\n",
      "C:\\Users\\user\\AppData\\Local\\Temp\\ipykernel_1276\\1871366565.py:2: SyntaxWarning: \"is\" with a literal. Did you mean \"==\"?\n",
      "  15 is 15\n"
     ]
    },
    {
     "data": {
      "text/plain": [
       "True"
      ]
     },
     "execution_count": 127,
     "metadata": {},
     "output_type": "execute_result"
    }
   ],
   "source": [
    "#To check if two values are pointing to same address  134\n",
    "15 is 15"
   ]
  },
  {
   "cell_type": "code",
   "execution_count": 128,
   "metadata": {},
   "outputs": [
    {
     "data": {
      "text/plain": [
       "True"
      ]
     },
     "execution_count": 128,
     "metadata": {},
     "output_type": "execute_result"
    }
   ],
   "source": [
    "#  135\n",
    "a=15\n",
    "b=15\n",
    "a is b"
   ]
  },
  {
   "cell_type": "code",
   "execution_count": 130,
   "metadata": {},
   "outputs": [
    {
     "name": "stdout",
     "output_type": "stream",
     "text": [
      "True\n",
      "False\n"
     ]
    }
   ],
   "source": [
    "#To check both values should be integer and both the values are pointing to same address    136\n",
    "a=256\n",
    "b=256\n",
    "print(type(a)==type(b)==int and a is b)\n",
    "c=257\n",
    "d=257\n",
    "print(type(c)==type(d)==int==c is d)"
   ]
  }
 ],
 "metadata": {
  "kernelspec": {
   "display_name": "Python 3",
   "language": "python",
   "name": "python3"
  },
  "language_info": {
   "codemirror_mode": {
    "name": "ipython",
    "version": 3
   },
   "file_extension": ".py",
   "mimetype": "text/x-python",
   "name": "python",
   "nbconvert_exporter": "python",
   "pygments_lexer": "ipython3",
   "version": "3.11.4"
  },
  "orig_nbformat": 4
 },
 "nbformat": 4,
 "nbformat_minor": 2
}
